{
 "cells": [
  {
   "cell_type": "code",
   "execution_count": 1,
   "id": "alleged-chemical",
   "metadata": {},
   "outputs": [
    {
     "name": "stdout",
     "output_type": "stream",
     "text": [
      "Requirement already satisfied: pyro-ppl in /home/rosario/.pyenv/versions/3.8.6/envs/jupyter/lib/python3.8/site-packages (1.5.1)\n",
      "Requirement already satisfied: matplotlib in /home/rosario/.pyenv/versions/3.8.6/envs/jupyter/lib/python3.8/site-packages (3.3.4)\n",
      "Requirement already satisfied: torch>=1.6.0 in /home/rosario/.pyenv/versions/3.8.6/envs/jupyter/lib/python3.8/site-packages (from pyro-ppl) (1.7.1)\n",
      "Requirement already satisfied: tqdm>=4.36 in /home/rosario/.pyenv/versions/3.8.6/envs/jupyter/lib/python3.8/site-packages (from pyro-ppl) (4.56.0)\n",
      "Requirement already satisfied: opt-einsum>=2.3.2 in /home/rosario/.pyenv/versions/3.8.6/envs/jupyter/lib/python3.8/site-packages (from pyro-ppl) (3.3.0)\n",
      "Requirement already satisfied: numpy>=1.7 in /home/rosario/.pyenv/versions/3.8.6/envs/jupyter/lib/python3.8/site-packages (from pyro-ppl) (1.20.0)\n",
      "Requirement already satisfied: pyro-api>=0.1.1 in /home/rosario/.pyenv/versions/3.8.6/envs/jupyter/lib/python3.8/site-packages (from pyro-ppl) (0.1.2)\n",
      "Requirement already satisfied: pyparsing!=2.0.4,!=2.1.2,!=2.1.6,>=2.0.3 in /home/rosario/.pyenv/versions/3.8.6/envs/jupyter/lib/python3.8/site-packages (from matplotlib) (2.4.7)\n",
      "Requirement already satisfied: cycler>=0.10 in /home/rosario/.pyenv/versions/3.8.6/envs/jupyter/lib/python3.8/site-packages (from matplotlib) (0.10.0)\n",
      "Requirement already satisfied: kiwisolver>=1.0.1 in /home/rosario/.pyenv/versions/3.8.6/envs/jupyter/lib/python3.8/site-packages (from matplotlib) (1.3.1)\n",
      "Requirement already satisfied: pillow>=6.2.0 in /home/rosario/.pyenv/versions/3.8.6/envs/jupyter/lib/python3.8/site-packages (from matplotlib) (8.1.0)\n",
      "Requirement already satisfied: python-dateutil>=2.1 in /home/rosario/.pyenv/versions/3.8.6/envs/jupyter/lib/python3.8/site-packages (from matplotlib) (2.8.1)\n",
      "Requirement already satisfied: typing-extensions in /home/rosario/.pyenv/versions/3.8.6/envs/jupyter/lib/python3.8/site-packages (from torch>=1.6.0->pyro-ppl) (3.7.4.3)\n",
      "Requirement already satisfied: six in /home/rosario/.pyenv/versions/3.8.6/envs/jupyter/lib/python3.8/site-packages (from cycler>=0.10->matplotlib) (1.15.0)\n",
      "\u001b[33mWARNING: You are using pip version 20.2.1; however, version 21.0.1 is available.\n",
      "You should consider upgrading via the '/home/rosario/.pyenv/versions/3.8.6/envs/jupyter/bin/python3.8 -m pip install --upgrade pip' command.\u001b[0m\n"
     ]
    }
   ],
   "source": [
    "!pip install pyro-ppl matplotlib"
   ]
  },
  {
   "cell_type": "code",
   "execution_count": 33,
   "id": "developed-creator",
   "metadata": {},
   "outputs": [
    {
     "data": {
      "image/png": "[encoded data removed]",
      "text/plain": [
       "<Figure size 432x288 with 1 Axes>"
      ]
     },
     "metadata": {
      "needs_background": "light"
     },
     "output_type": "display_data"
    }
   ],
   "source": [
    "%matplotlib inline \n",
    "import matplotlib\n",
    "import matplotlib.pyplot as plt\n",
    "import numpy as np\n",
    "import torch\n",
    "import pyro\n",
    "import pyro.distributions as dist\n",
    "plt.ion()\n",
    "dist_params_history = torch.load('logs/dist_params_logs.pt')\n",
    "\n",
    "#d = dist.Beta(*dist_params_history[2][0])\n",
    "#print(dist_params_history[2][0])\n",
    "d = dist.Beta(30., 2.)\n",
    "d2 = dist.Beta(15., 30.)\n",
    "d3 = dist.Beta(1.1, 1.1)\n",
    "\n",
    "\n",
    "support = torch.arange(-0.1, 1.1, 0.001).detach()\n",
    "prob = d.log_prob(support).detach().exp()\n",
    "prob2 = d2.log_prob(support).detach().exp()\n",
    "prob3 = d3.log_prob(support).detach().exp()\n",
    "\n",
    "\n",
    "fig = plt.figure()\n",
    "plt.plot(support.numpy(), prob.numpy())\n",
    "plt.plot(support.numpy(), prob2.numpy())\n",
    "plt.plot(support.numpy(), prob3.numpy())\n",
    "\n",
    "\n",
    "plt.xlim(-0.1, 1.1)\n",
    "\n",
    "plt.ylim(0, prob.numpy()[~np.isnan(prob.numpy())].max()*1.05)\n",
    "plt.xlabel('support')\n",
    "plt.ylabel('p')\n",
    "plt.title('Beta function')\n",
    "plt.tight_layout();\n",
    "plt.show()\n"
   ]
  },
  {
   "cell_type": "code",
   "execution_count": null,
   "id": "baking-looking",
   "metadata": {},
   "outputs": [],
   "source": []
  },
  {
   "cell_type": "code",
   "execution_count": null,
   "id": "african-celebrity",
   "metadata": {},
   "outputs": [],
   "source": []
  }
 ],
 "metadata": {
  "kernelspec": {
   "display_name": "Python 3",
   "language": "python",
   "name": "python3"
  },
  "language_info": {
   "codemirror_mode": {
    "name": "ipython",
    "version": 3
   },
   "file_extension": ".py",
   "mimetype": "text/x-python",
   "name": "python",
   "nbconvert_exporter": "python",
   "pygments_lexer": "ipython3",
   "version": "3.8.6"
  }
 },
 "nbformat": 4,
 "nbformat_minor": 5
}
