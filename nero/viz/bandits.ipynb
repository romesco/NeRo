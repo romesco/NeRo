{
 "cells": [
  {
   "cell_type": "code",
   "execution_count": 1,
   "id": "military-rolling",
   "metadata": {},
   "outputs": [
    {
     "name": "stdout",
     "output_type": "stream",
     "text": [
      "Requirement already satisfied: pyro-ppl in /home/rosario/.pyenv/versions/3.8.6/envs/jupyter/lib/python3.8/site-packages (1.5.1)\n",
      "Requirement already satisfied: matplotlib in /home/rosario/.pyenv/versions/3.8.6/envs/jupyter/lib/python3.8/site-packages (3.3.4)\n",
      "Requirement already satisfied: torch in /home/rosario/.pyenv/versions/3.8.6/envs/jupyter/lib/python3.8/site-packages (1.7.1)\n",
      "Requirement already satisfied: pyro-api>=0.1.1 in /home/rosario/.pyenv/versions/3.8.6/envs/jupyter/lib/python3.8/site-packages (from pyro-ppl) (0.1.2)\n",
      "Requirement already satisfied: numpy>=1.7 in /home/rosario/.pyenv/versions/3.8.6/envs/jupyter/lib/python3.8/site-packages (from pyro-ppl) (1.20.0)\n",
      "Requirement already satisfied: tqdm>=4.36 in /home/rosario/.pyenv/versions/3.8.6/envs/jupyter/lib/python3.8/site-packages (from pyro-ppl) (4.56.0)\n",
      "Requirement already satisfied: opt-einsum>=2.3.2 in /home/rosario/.pyenv/versions/3.8.6/envs/jupyter/lib/python3.8/site-packages (from pyro-ppl) (3.3.0)\n",
      "Requirement already satisfied: cycler>=0.10 in /home/rosario/.pyenv/versions/3.8.6/envs/jupyter/lib/python3.8/site-packages (from matplotlib) (0.10.0)\n",
      "Requirement already satisfied: pyparsing!=2.0.4,!=2.1.2,!=2.1.6,>=2.0.3 in /home/rosario/.pyenv/versions/3.8.6/envs/jupyter/lib/python3.8/site-packages (from matplotlib) (2.4.7)\n",
      "Requirement already satisfied: kiwisolver>=1.0.1 in /home/rosario/.pyenv/versions/3.8.6/envs/jupyter/lib/python3.8/site-packages (from matplotlib) (1.3.1)\n",
      "Requirement already satisfied: python-dateutil>=2.1 in /home/rosario/.pyenv/versions/3.8.6/envs/jupyter/lib/python3.8/site-packages (from matplotlib) (2.8.1)\n",
      "Requirement already satisfied: pillow>=6.2.0 in /home/rosario/.pyenv/versions/3.8.6/envs/jupyter/lib/python3.8/site-packages (from matplotlib) (8.1.0)\n",
      "Requirement already satisfied: typing-extensions in /home/rosario/.pyenv/versions/3.8.6/envs/jupyter/lib/python3.8/site-packages (from torch) (3.7.4.3)\n",
      "Requirement already satisfied: six in /home/rosario/.pyenv/versions/3.8.6/envs/jupyter/lib/python3.8/site-packages (from cycler>=0.10->matplotlib) (1.15.0)\n",
      "\u001b[33mWARNING: You are using pip version 20.2.1; however, version 21.0.1 is available.\n",
      "You should consider upgrading via the '/home/rosario/.pyenv/versions/3.8.6/envs/jupyter/bin/python3.8 -m pip install --upgrade pip' command.\u001b[0m\n",
      "Obtaining file:///home/rosario/WRK/NeRo\n",
      "Installing collected packages: nero\n",
      "  Running setup.py develop for nero\n",
      "Successfully installed nero\n",
      "\u001b[33mWARNING: You are using pip version 20.2.1; however, version 21.0.1 is available.\n",
      "You should consider upgrading via the '/home/rosario/.pyenv/versions/3.8.6/envs/jupyter/bin/python3.8 -m pip install --upgrade pip' command.\u001b[0m\n"
     ]
    }
   ],
   "source": [
    "!pip install pyro-ppl matplotlib torch\n",
    "!pip install -e ../.."
   ]
  },
  {
   "cell_type": "code",
   "execution_count": 1,
   "id": "furnished-combination",
   "metadata": {},
   "outputs": [
    {
     "name": "stdout",
     "output_type": "stream",
     "text": [
      "0\n",
      "1\n",
      "2\n",
      "3\n",
      "4\n",
      "5\n",
      "6\n",
      "7\n",
      "8\n",
      "9\n"
     ]
    },
    {
     "data": {
      "image/png": "[encoded data removed]",
      "text/plain": [
       "<Figure size 432x288 with 1 Axes>"
      ]
     },
     "metadata": {
      "needs_background": "light"
     },
     "output_type": "display_data"
    }
   ],
   "source": [
    "from nero.viz.bandits import plot_bandits\n",
    "from nero.core.utils import get_project_root\n",
    "import torch\n",
    "import os\n",
    "\n",
    "%matplotlib inline\n",
    "\n",
    "filename = os.path.join(get_project_root(),'viz/logs','dist_params_logs.pt' )\n",
    "dist_params_history = torch.load(filename)\n",
    "plot_bandits(dist_params_history)\n",
    "\n"
   ]
  },
  {
   "cell_type": "code",
   "execution_count": 2,
   "id": "blond-slope",
   "metadata": {},
   "outputs": [
    {
     "data": {
      "text/plain": [
       "tensor([[[1., 1.],\n",
       "         [1., 1.],\n",
       "         [1., 2.],\n",
       "         [1., 1.],\n",
       "         [1., 2.],\n",
       "         [1., 2.],\n",
       "         [1., 1.],\n",
       "         [1., 1.],\n",
       "         [1., 1.],\n",
       "         [1., 1.]],\n",
       "\n",
       "        [[1., 1.],\n",
       "         [1., 1.],\n",
       "         [1., 2.],\n",
       "         [1., 1.],\n",
       "         [1., 2.],\n",
       "         [1., 2.],\n",
       "         [1., 1.],\n",
       "         [1., 1.],\n",
       "         [1., 1.],\n",
       "         [1., 1.]],\n",
       "\n",
       "        [[1., 1.],\n",
       "         [1., 1.],\n",
       "         [1., 2.],\n",
       "         [1., 1.],\n",
       "         [1., 2.],\n",
       "         [1., 2.],\n",
       "         [1., 1.],\n",
       "         [1., 1.],\n",
       "         [1., 1.],\n",
       "         [1., 1.]]])"
      ]
     },
     "execution_count": 2,
     "metadata": {},
     "output_type": "execute_result"
    }
   ],
   "source": [
    "dist_params_history"
   ]
  },
  {
   "cell_type": "code",
   "execution_count": null,
   "id": "stylish-football",
   "metadata": {},
   "outputs": [],
   "source": []
  }
 ],
 "metadata": {
  "kernelspec": {
   "display_name": "Python 3",
   "language": "python",
   "name": "python3"
  },
  "language_info": {
   "codemirror_mode": {
    "name": "ipython",
    "version": 3
   },
   "file_extension": ".py",
   "mimetype": "text/x-python",
   "name": "python",
   "nbconvert_exporter": "python",
   "pygments_lexer": "ipython3",
   "version": "3.8.6"
  }
 },
 "nbformat": 4,
 "nbformat_minor": 5
}
